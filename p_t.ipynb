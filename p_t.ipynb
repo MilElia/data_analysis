{
 "cells": [
  {
   "cell_type": "markdown",
   "id": "a275784e-8460-4468-98f0-e7755b6986f7",
   "metadata": {},
   "source": [
    "# Project Name: High school student performance & demographics\n",
    "\n",
    "### Project number: 9\n",
    "https://shorturl.at/VHhVv\n",
    "\n",
    "### Project team members: 3\n",
    "* tal dafna\n",
    "* eden \n",
    "* elia miller\n",
    "\n",
    "\n",
    "### Project description: \n",
    "This dataset contains student achievement data for two Portuguese high schools. The data was collected using school reports and questionnaires, and includes student grades, demographics, social, parent, and school-related features.\n",
    "\n",
    "Two datasets are provided regarding performance in two distinct subjects: Mathematics and Portuguese language. Example columns - family_size,extra_paid_classes, final grade....\n",
    "\n",
    "### Link to the data: \n",
    "https://www.kaggle.com/datasets/dillonmyrick/high-school-student-performance-and-demographics\n"
   ]
  },
  {
   "cell_type": "markdown",
   "id": "a66dd24f-ed31-42b8-b6fe-425a4a87e535",
   "metadata": {},
   "source": [
    "----"
   ]
  },
  {
   "cell_type": "markdown",
   "id": "40924565-a0c6-4f91-b4c1-57816a816cbe",
   "metadata": {},
   "source": [
    "#### Read you file from Github:"
   ]
  },
  {
   "cell_type": "code",
   "execution_count": null,
   "id": "5dbc7e4b-6bbf-40f0-825d-30b1eb4b6ac6",
   "metadata": {},
   "outputs": [],
   "source": [
    "https://raw.githubusercontent.com/Taldafna/High-School-Student/main/student_math_clean.csv"
   ]
  },
  {
   "cell_type": "code",
   "execution_count": null,
   "id": "10ba557c-f1b4-45cf-8771-2764ad1a02de",
   "metadata": {},
   "outputs": [],
   "source": []
  },
  {
   "cell_type": "markdown",
   "id": "f2a78930-bf7b-4d50-902b-c35a91b19ab0",
   "metadata": {},
   "source": [
    "#### Describe the data\n",
    "* How many rows?\n",
    "* How many columns?\n",
    "* How many numeric columns? (not including numerical identifiers - numbers that uniquely define the row)\n",
    "* How many categorical columns? (not including string identifiers -  values that uniquely define the row)"
   ]
  },
  {
   "cell_type": "markdown",
   "id": "87f2420c-e40d-4958-a707-a2de7ae5ec8d",
   "metadata": {},
   "source": [
    "395 rows"
   ]
  },
  {
   "cell_type": "markdown",
   "id": "c51be9f6-3af0-4280-bb93-6c93b14e28b1",
   "metadata": {},
   "source": [
    "34 columns"
   ]
  },
  {
   "cell_type": "markdown",
   "id": "42b68e2a-4278-46b1-9835-bfd0f0c00c80",
   "metadata": {},
   "source": [
    "11 numeric columns, 21 categorical columns."
   ]
  },
  {
   "cell_type": "markdown",
   "id": "67cbfe4e-1a60-4460-8cc1-e98ea9813fa8",
   "metadata": {},
   "source": [
    "#### Write three questions you would like to answer using this data"
   ]
  },
  {
   "cell_type": "markdown",
   "id": "4470f031-7d4f-4814-8f36-549be16c2eea",
   "metadata": {},
   "source": [
    "1. Is there a connection between pre-school education frameworks and academic performance (the impact of kindergarten on grades)?\n"
   ]
  },
  {
   "cell_type": "markdown",
   "id": "3f76efd8-a896-4758-a774-811abd08e9ab",
   "metadata": {},
   "source": [
    "2. Do parents who did not enroll their children in pre-school education frameworks later register them for tutoring or academic support (parents' attitudes toward educational frameworks and correlation with external reinforcement)?\n"
   ]
  },
  {
   "cell_type": "markdown",
   "id": "b7972801-dab3-4405-9ac9-c025162d858d",
   "metadata": {},
   "source": [
    "3. Is there a link between the reason a child attends an educational institution and their success (does pre-school motivation influence academic performance)?"
   ]
  }
 ],
 "metadata": {
  "kernelspec": {
   "display_name": "Python 3 (ipykernel)",
   "language": "python",
   "name": "python3"
  },
  "language_info": {
   "codemirror_mode": {
    "name": "ipython",
    "version": 3
   },
   "file_extension": ".py",
   "mimetype": "text/x-python",
   "name": "python",
   "nbconvert_exporter": "python",
   "pygments_lexer": "ipython3",
   "version": "3.13.1"
  }
 },
 "nbformat": 4,
 "nbformat_minor": 5
}
